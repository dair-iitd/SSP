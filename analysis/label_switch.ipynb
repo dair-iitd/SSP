{
 "cells": [
  {
   "cell_type": "code",
   "execution_count": 2,
   "metadata": {},
   "outputs": [],
   "source": [
    "import json"
   ]
  },
  {
   "cell_type": "code",
   "execution_count": 3,
   "metadata": {},
   "outputs": [],
   "source": [
    "dir_8s = \"../new_results/gpt45_new/germanic_new/8s\"\n",
    "dir_8t = \"../new_results/gpt45_new/germanic_new/8t\""
   ]
  },
  {
   "cell_type": "code",
   "execution_count": 4,
   "metadata": {},
   "outputs": [],
   "source": [
    "def load_jsonl(file):\n",
    "    lines = open(file, 'r').readlines()\n",
    "    data = [json.loads(line.strip()) for line in lines]\n",
    "    return data"
   ]
  },
  {
   "cell_type": "code",
   "execution_count": 5,
   "metadata": {},
   "outputs": [],
   "source": [
    "def print_topk_diffs(lang):\n",
    "\n",
    "    hau_8s = load_jsonl(dir_8s + f\"/{lang}/responses.json\")\n",
    "    hau_8t = load_jsonl(dir_8t + f\"/{lang}/responses.json\")\n",
    "    \n",
    "    for (eg, prev_eg) in zip(hau_8t, hau_8s):\n",
    "        eg['diff'] = sum([int(lbl != prev_lbl) for (lbl, prev_lbl) in zip(eg['pred_labels'], prev_eg['pred_labels'])])\n",
    "        eg['prev_labels'] = prev_eg['pred_labels']\n",
    "        \n",
    "    hau_8t_sorted = sorted(hau_8t, key=lambda x: -x['diff'])\n",
    "    \n",
    "    for eg in hau_8t_sorted[:10]:\n",
    "        print('Toks: ' + eg['input'])\n",
    "        print('8s: ' + ' '.join(eg['prev_labels']))\n",
    "        print('8t: ' + ' '.join(eg['pred_labels']))\n",
    "        print('Gd: ' + ' '.join([lbl.rsplit(\"_\", 1)[1] for lbl in eg[\"output\"].strip().split(\" \")]))\n",
    "        print('')"
   ]
  },
  {
   "cell_type": "code",
   "execution_count": 116,
   "metadata": {
    "scrolled": false
   },
   "outputs": [
    {
     "name": "stdout",
     "output_type": "stream",
     "text": [
      "hau\n"
     ]
    },
    {
     "ename": "FileNotFoundError",
     "evalue": "[Errno 2] No such file or directory: '../new_results/gpt4_new/germanic/8s/hau/responses.json'",
     "output_type": "error",
     "traceback": [
      "\u001b[0;31m---------------------------------------------------------------------------\u001b[0m",
      "\u001b[0;31mFileNotFoundError\u001b[0m                         Traceback (most recent call last)",
      "\u001b[0;32m<ipython-input-116-a257fa9d5707>\u001b[0m in \u001b[0;36m<module>\u001b[0;34m()\u001b[0m\n\u001b[1;32m      1\u001b[0m \u001b[0;32mfor\u001b[0m \u001b[0mlang\u001b[0m \u001b[0;32min\u001b[0m \u001b[0;34m[\u001b[0m\u001b[0;34m'hau'\u001b[0m\u001b[0;34m,\u001b[0m \u001b[0;34m'ibo'\u001b[0m\u001b[0;34m,\u001b[0m \u001b[0;34m'kin'\u001b[0m\u001b[0;34m,\u001b[0m \u001b[0;34m'lug'\u001b[0m\u001b[0;34m,\u001b[0m \u001b[0;34m'luo'\u001b[0m\u001b[0;34m]\u001b[0m\u001b[0;34m:\u001b[0m\u001b[0;34m\u001b[0m\u001b[0;34m\u001b[0m\u001b[0m\n\u001b[1;32m      2\u001b[0m     \u001b[0mprint\u001b[0m\u001b[0;34m(\u001b[0m\u001b[0mlang\u001b[0m\u001b[0;34m)\u001b[0m\u001b[0;34m\u001b[0m\u001b[0;34m\u001b[0m\u001b[0m\n\u001b[0;32m----> 3\u001b[0;31m     \u001b[0mprint_topk_diffs\u001b[0m\u001b[0;34m(\u001b[0m\u001b[0mlang\u001b[0m\u001b[0;34m)\u001b[0m\u001b[0;34m\u001b[0m\u001b[0;34m\u001b[0m\u001b[0m\n\u001b[0m",
      "\u001b[0;32m<ipython-input-115-7f2ff41d19d1>\u001b[0m in \u001b[0;36mprint_topk_diffs\u001b[0;34m(lang)\u001b[0m\n\u001b[1;32m      1\u001b[0m \u001b[0;32mdef\u001b[0m \u001b[0mprint_topk_diffs\u001b[0m\u001b[0;34m(\u001b[0m\u001b[0mlang\u001b[0m\u001b[0;34m)\u001b[0m\u001b[0;34m:\u001b[0m\u001b[0;34m\u001b[0m\u001b[0;34m\u001b[0m\u001b[0m\n\u001b[1;32m      2\u001b[0m \u001b[0;34m\u001b[0m\u001b[0m\n\u001b[0;32m----> 3\u001b[0;31m     \u001b[0mhau_8s\u001b[0m \u001b[0;34m=\u001b[0m \u001b[0mload_jsonl\u001b[0m\u001b[0;34m(\u001b[0m\u001b[0mdir_8s\u001b[0m \u001b[0;34m+\u001b[0m \u001b[0;34mf\"/{lang}/responses.json\"\u001b[0m\u001b[0;34m)\u001b[0m\u001b[0;34m\u001b[0m\u001b[0;34m\u001b[0m\u001b[0m\n\u001b[0m\u001b[1;32m      4\u001b[0m     \u001b[0mhau_8t\u001b[0m \u001b[0;34m=\u001b[0m \u001b[0mload_jsonl\u001b[0m\u001b[0;34m(\u001b[0m\u001b[0mdir_8t\u001b[0m \u001b[0;34m+\u001b[0m \u001b[0;34mf\"/{lang}/responses.json\"\u001b[0m\u001b[0;34m)\u001b[0m\u001b[0;34m\u001b[0m\u001b[0;34m\u001b[0m\u001b[0m\n\u001b[1;32m      5\u001b[0m \u001b[0;34m\u001b[0m\u001b[0m\n",
      "\u001b[0;32m<ipython-input-114-6dbecdc8d66a>\u001b[0m in \u001b[0;36mload_jsonl\u001b[0;34m(file)\u001b[0m\n\u001b[1;32m      1\u001b[0m \u001b[0;32mdef\u001b[0m \u001b[0mload_jsonl\u001b[0m\u001b[0;34m(\u001b[0m\u001b[0mfile\u001b[0m\u001b[0;34m)\u001b[0m\u001b[0;34m:\u001b[0m\u001b[0;34m\u001b[0m\u001b[0;34m\u001b[0m\u001b[0m\n\u001b[0;32m----> 2\u001b[0;31m     \u001b[0mlines\u001b[0m \u001b[0;34m=\u001b[0m \u001b[0mopen\u001b[0m\u001b[0;34m(\u001b[0m\u001b[0mfile\u001b[0m\u001b[0;34m,\u001b[0m \u001b[0;34m'r'\u001b[0m\u001b[0;34m)\u001b[0m\u001b[0;34m.\u001b[0m\u001b[0mreadlines\u001b[0m\u001b[0;34m(\u001b[0m\u001b[0;34m)\u001b[0m\u001b[0;34m\u001b[0m\u001b[0;34m\u001b[0m\u001b[0m\n\u001b[0m\u001b[1;32m      3\u001b[0m     \u001b[0mdata\u001b[0m \u001b[0;34m=\u001b[0m \u001b[0;34m[\u001b[0m\u001b[0mjson\u001b[0m\u001b[0;34m.\u001b[0m\u001b[0mloads\u001b[0m\u001b[0;34m(\u001b[0m\u001b[0mline\u001b[0m\u001b[0;34m.\u001b[0m\u001b[0mstrip\u001b[0m\u001b[0;34m(\u001b[0m\u001b[0;34m)\u001b[0m\u001b[0;34m)\u001b[0m \u001b[0;32mfor\u001b[0m \u001b[0mline\u001b[0m \u001b[0;32min\u001b[0m \u001b[0mlines\u001b[0m\u001b[0;34m]\u001b[0m\u001b[0;34m\u001b[0m\u001b[0;34m\u001b[0m\u001b[0m\n\u001b[1;32m      4\u001b[0m     \u001b[0;32mreturn\u001b[0m \u001b[0mdata\u001b[0m\u001b[0;34m\u001b[0m\u001b[0;34m\u001b[0m\u001b[0m\n",
      "\u001b[0;31mFileNotFoundError\u001b[0m: [Errno 2] No such file or directory: '../new_results/gpt4_new/germanic/8s/hau/responses.json'"
     ]
    }
   ],
   "source": [
    "for lang in ['hau', 'ibo', 'kin', 'lug', 'luo']:\n",
    "    print(lang)\n",
    "    print_topk_diffs(lang)"
   ]
  },
  {
   "cell_type": "code",
   "execution_count": 121,
   "metadata": {},
   "outputs": [
    {
     "name": "stdout",
     "output_type": "stream",
     "text": [
      "fo\n",
      "Toks: Naksos er kent fyri síni eplir í restini av Grikkalandi .\n",
      "8s: PROPN AUX VERB ADP DET NOUN ADP NOUN ADP PROPN PUNCT\n",
      "8t: PROPN AUX ADJ ADP PRON NOUN ADP NOUN ADP PROPN PUNCT\n",
      "Gd: PROPN VERB VERB ADP DET NOUN ADP NOUN ADP PROPN PUNCT\n",
      "\n",
      "Toks: Hetta verður ofta nevnt at hava “ formansskapin í ES ” .\n",
      "8s: PROPN AUX ADV VERB SCONJ VERB PUNCT NOUN ADP PROPN PUNCT PUNCT\n",
      "8t: PRON AUX ADV VERB PART VERB PUNCT NOUN ADP PROPN PUNCT PUNCT\n",
      "Gd: PRON VERB ADV VERB PART VERB PUNCT NOUN ADP NOUN PUNCT PUNCT\n",
      "\n",
      "Toks: Meginparturin av fólkinum er katolikkar .\n",
      "8s: NOUN ADP NOUN AUX NOUN PUNCT\n",
      "8t: ADJ ADP NOUN AUX ADJ PUNCT\n",
      "Gd: NOUN ADP NOUN VERB NOUN PUNCT\n",
      "\n",
      "Toks: Hetta kom í lag við kongsbrævi , dagfest 19. mars .\n",
      "8s: NOUN VERB ADP NOUN ADP NOUN PUNCT VERB NUM NOUN PUNCT\n",
      "8t: PRON VERB ADP NOUN ADP NOUN PUNCT VERB ADJ NOUN PUNCT\n",
      "Gd: PRON VERB ADP NOUN ADP NOUN PUNCT VERB ADJ NOUN PUNCT\n",
      "\n",
      "Toks: Gáta : Ein gáta er ein stutt søga , sum endar við einum spurningi .\n",
      "8s: NOUN PUNCT DET NOUN AUX DET ADJ NOUN PUNCT SCONJ VERB ADP DET NOUN PUNCT\n",
      "8t: PROPN PUNCT DET NOUN AUX DET ADJ NOUN PUNCT SCONJ VERB ADP DET NOUN PUNCT\n",
      "Gd: NOUN PUNCT DET NOUN VERB DET ADJ NOUN PUNCT PRON VERB ADP DET NOUN PUNCT\n",
      "\n",
      "Toks: Pávin er hægsti myndugleiki fyri róma- kirkjuni .\n",
      "8s: PROPN AUX ADJ NOUN ADP PART NOUN PUNCT\n",
      "8t: PROPN AUX ADJ NOUN ADP ADJ NOUN PUNCT\n",
      "Gd: NOUN VERB ADJ NOUN ADP NOUN NOUN PUNCT\n",
      "\n",
      "Toks: Mitt í Moskva er Kreml , russiska tinginum .\n",
      "8s: ADV ADP PROPN AUX PROPN PUNCT ADJ NOUN PUNCT\n",
      "8t: ADP ADP PROPN AUX PROPN PUNCT ADJ NOUN PUNCT\n",
      "Gd: ADV ADP PROPN VERB PROPN PUNCT ADJ NOUN PUNCT\n",
      "\n",
      "Toks: Hansara stóri áhugi er tónleikur .\n",
      "8s: PROPN ADJ NOUN AUX NOUN PUNCT\n",
      "8t: PRON ADJ NOUN AUX NOUN PUNCT\n",
      "Gd: PRON ADJ NOUN VERB NOUN PUNCT\n",
      "\n",
      "Toks: Fram við strondini eru mong stór oljureinsiverk .\n",
      "8s: ADV ADP NOUN AUX ADJ ADJ NOUN PUNCT\n",
      "8t: ADP ADP NOUN AUX ADJ ADJ NOUN PUNCT\n",
      "Gd: X ADP NOUN VERB ADJ ADJ NOUN PUNCT\n",
      "\n",
      "Toks: Høvuðsstaðurin í Noregi er Oslo .\n",
      "8s: PROPN ADP PROPN AUX PROPN PUNCT\n",
      "8t: NOUN ADP PROPN AUX PROPN PUNCT\n",
      "Gd: NOUN ADP PROPN VERB PROPN PUNCT\n",
      "\n",
      "got\n",
      "Toks: akei swe raihtis in allamma managniþ galaubeinai jah waurda jah kunþja jah in allai usdaudein jah ana þizai us izwis in uns frijaþwai ei jah in þizai anstai managnaiþ\n",
      "8s: ADV SCONJ ADJ ADP ADJ NOUN VERB CCONJ NOUN CCONJ NOUN CCONJ ADP ADJ NOUN CCONJ ADP DET ADP PRON ADP PRON NOUN PART CCONJ ADP DET NOUN NOUN\n",
      "8t: ADV ADV NOUN ADP DET NOUN VERB CCONJ NOUN CCONJ NOUN CCONJ ADP DET NOUN CCONJ ADP DET PRON PRON ADP PRON NOUN SCONJ CCONJ ADP DET NOUN VERB\n",
      "Gd: CCONJ ADV ADV ADP ADJ VERB NOUN CCONJ NOUN CCONJ NOUN CCONJ ADP DET NOUN CCONJ ADV DET ADP PRON ADP PRON NOUN ADV ADV ADP DET NOUN VERB\n",
      "\n",
      "Toks: galauk auk guþ allans in ungalaubeinai ei allans gaarmai\n",
      "8s: NOUN X NOUN ADJ ADP ADJ X ADJ NOUN\n",
      "8t: VERB ADV NOUN DET ADP NOUN PART DET VERB\n",
      "Gd: VERB ADV NOUN ADJ ADP NOUN SCONJ ADJ VERB\n",
      "\n",
      "Toks: biþe þan is neƕa was juþan at ibdaljin þis fairgunjis alewabagme dugunnun alakjo managei siponje faginondans hazjan guþ stibnai mikilai in allaizo þoze seƕun mahte qiþandans\n",
      "8s: VERB DET AUX ADJ AUX ADV ADP VERB DET NOUN ADJ VERB ADJ NOUN VERB VERB VERB NOUN NOUN ADJ ADP DET SCONJ VERB AUX VERB\n",
      "8t: ADV SCONJ AUX ADV AUX ADV ADP VERB DET NOUN NOUN VERB ADJ NOUN NOUN VERB VERB NOUN NOUN ADJ ADP DET PRON VERB NOUN VERB\n",
      "Gd: SCONJ ADV PRON ADP AUX ADV ADP NOUN DET NOUN NOUN VERB ADV NOUN NOUN VERB VERB NOUN NOUN ADJ ADP DET PRON VERB NOUN VERB\n",
      "\n",
      "Toks: andhamonds sik leika reikja jah waldufnja gatarhida balþaba gablauþjands þo bairhtaba in sis\n",
      "8s: NOUN PRON VERB NOUN CCONJ NOUN NOUN NOUN NOUN ADV ADJ ADP PRON\n",
      "8t: VERB PRON NOUN VERB CCONJ NOUN VERB ADJ VERB ADV ADJ ADP PRON\n",
      "Gd: VERB PRON NOUN NOUN CCONJ NOUN VERB ADV VERB ADJ ADV ADP PRON\n",
      "\n",
      "Toks: unte saei skamaiþ sik meina jah waurde meinaize in gabaurþai þizai horinondein jah frawaurhton jah sunus mans skamaiþ sik is þan qimiþ in wulþau attins seinis miþ aggilum þaim weiham\n",
      "8s: ADP VERB VERB PRON ADJ CCONJ VERB ADJ ADP NOUN DET VERB CCONJ VERB CCONJ NOUN NOUN VERB PRON PRON ADV VERB ADP NOUN NOUN PRON ADP NOUN DET NOUN\n",
      "8t: SCONJ PRON VERB PRON PRON CCONJ NOUN PRON ADP NOUN DET VERB CCONJ VERB CCONJ NOUN NOUN VERB PRON PRON ADV VERB ADP NOUN PRON PRON ADP NOUN DET NOUN\n",
      "Gd: ADV PRON VERB PRON PRON CCONJ NOUN ADJ ADP NOUN DET VERB CCONJ VERB ADV NOUN NOUN VERB PRON PRON SCONJ VERB ADP NOUN NOUN ADJ ADP NOUN DET ADJ\n",
      "\n",
      "Toks: ni ƕazuh saei qiþiþ mis frauja frauja inngaleiþiþ in þiudangardja himine ak sa taujands wiljan attins meinis þis in himinam\n",
      "8s: ADV PRON SCONJ VERB PRON NOUN NOUN VERB ADP NOUN NOUN CCONJ DET VERB NOUN PRON PRON PRON ADP NOUN\n",
      "8t: ADV ADJ PRON VERB PRON NOUN NOUN VERB ADP NOUN NOUN CCONJ PRON VERB NOUN NOUN PRON DET ADP NOUN\n",
      "Gd: ADV ADJ PRON VERB PRON NOUN NOUN VERB ADP NOUN NOUN CCONJ DET VERB NOUN NOUN ADJ DET ADP NOUN\n",
      "\n",
      "Toks: ni hugei hauhaba ak ogs\n",
      "8s: X X X X X\n",
      "8t: ADV VERB NOUN CCONJ NOUN\n",
      "Gd: ADV VERB ADV CCONJ VERB\n",
      "\n",
      "Toks: unte raihtis bida andnam aþþan usdaudoza wisands silba wiljands galaiþ du izwis\n",
      "8s: X NOUN VERB NOUN ADV ADJ VERB PRON VERB VERB ADP PRON\n",
      "8t: SCONJ ADJ NOUN VERB SCONJ ADJ VERB PRON VERB VERB ADP PRON\n",
      "Gd: ADV ADV NOUN VERB CCONJ ADJ AUX ADJ VERB VERB ADP PRON\n",
      "\n",
      "Toks: unte ik us mis silbin ni rodida ak saei sandida mik atta sah mis anabusn atgaf\n",
      "8s: ADV PRON PRON PRON VERB ADV VERB CCONJ VERB VERB PRON VERB VERB PRON NOUN VERB\n",
      "8t: ADP PRON PRON PRON PRON PART VERB CCONJ SCONJ VERB PRON NOUN VERB PRON NOUN VERB\n",
      "Gd: ADV PRON ADP PRON PRON ADV VERB CCONJ PRON VERB PRON NOUN ADJ PRON NOUN VERB\n",
      "\n",
      "Toks: andbindandam þan im þana fulan qeþun þai fraujans þis du im\n",
      "8s: VERB DET ADP DET ADJ VERB PRON NOUN PRON ADP ADP\n",
      "8t: VERB ADP PRON DET ADJ VERB DET NOUN DET ADP PRON\n",
      "Gd: VERB ADV PRON DET NOUN VERB DET NOUN DET ADP PRON\n",
      "\n",
      "gsw\n",
      "Toks: d Region Möhli-basel isch die wärmscht Region nördlich vode Alpe und het bis zu 40 Sunnetäg mehr z verzeichne als s Mittelland .\n",
      "8s: DET NOUN PROPN AUX DET ADJ NOUN ADP ADP PROPN CCONJ VERB ADP PART NUM NOUN ADV PART VERB SCONJ DET PROPN PUNCT\n",
      "8t: X X X X X X X X X X X X X X X X X X X X X X X\n",
      "Gd: DET NOUN PROPN AUX DET ADJ NOUN ADP ADP PROPN CCONJ AUX ADP ADP NUM NOUN ADV PART VERB CCONJ DET NOUN PUNCT\n",
      "\n",
      "Toks: Irgendwiä hätt mi das a sonän Chòg ärinnärät , sonän Tschutter ...\n",
      "8s: X X X X X X X X X X X X\n",
      "8t: ADV AUX PRON DET PART DET NOUN VERB PUNCT DET NOUN PUNCT\n",
      "Gd: ADV AUX PRON PRON ADP DET NOUN VERB PUNCT DET NOUN PUNCT\n",
      "\n",
      "Toks: Heit der scho gschaffet oder göt der ersch go schaffe ?\n",
      "8s: AUX DET ADV VERB CCONJ VERB DET ADV PART VERB PUNCT\n",
      "8t: AUX PRON ADV VERB CCONJ AUX PRON ADV VERB VERB PUNCT\n",
      "Gd: AUX PRON ADV VERB CCONJ VERB PRON ADV PART VERB PUNCT\n",
      "\n",
      "Toks: Ds Gueten isch immerhin gsi , dass i ungerdesse söfu müed bi gsi , dass i ändlech ha chönne go schlofe .\n",
      "8s: DET NOUN AUX ADV VERB PUNCT SCONJ PRON ADV VERB ADJ ADP VERB PUNCT SCONJ PRON ADV AUX AUX VERB VERB PUNCT\n",
      "8t: DET NOUN AUX ADV AUX PUNCT SCONJ PRON ADV ADV ADJ ADP AUX PUNCT SCONJ PRON ADV AUX AUX PART VERB PUNCT\n",
      "Gd: DET NOUN AUX ADV AUX PUNCT SCONJ PRON ADV ADV ADJ AUX AUX PUNCT SCONJ PRON ADV AUX AUX PART VERB PUNCT\n",
      "\n",
      "Toks: So richtig sicher bini mier aso nöd gsi , ob das wörkli s ' Richtigen isch für mi .\n",
      "8s: ADV ADJ ADJ VERB PRON ADV PART AUX PUNCT SCONJ PRON ADV DET PUNCT NOUN AUX ADP PRON PUNCT\n",
      "8t: ADV ADJ ADJ AUX PRON ADV ADV AUX PUNCT SCONJ DET ADV DET PART NOUN AUX ADP PRON PUNCT\n",
      "Gd: ADV ADJ ADJ AUX PRON ADV PART AUX PUNCT SCONJ PRON ADV DET PUNCT NOUN AUX ADP PRON PUNCT\n",
      "\n",
      "Toks: I cha der ihri Telefonnummere gä , de nimmsch mou unverbindlech Kontakt uuf .\n",
      "8s: PRON VERB DET ADJ NOUN VERB PUNCT PRON VERB ADV ADJ NOUN VERB PUNCT\n",
      "8t: PRON AUX PRON PRON NOUN VERB PUNCT PRON VERB ADV ADJ NOUN ADP PUNCT\n",
      "Gd: PRON AUX PRON DET NOUN VERB PUNCT ADV VERB ADV ADJ NOUN PART PUNCT\n",
      "\n",
      "Toks: Öb s en richtige Mord seg , wüss er nanig .\n",
      "8s: ADV AUX X ADJ NOUN VERB PUNCT VERB PRON ADV PUNCT\n",
      "8t: SCONJ PRON DET ADJ NOUN AUX PUNCT VERB PRON ADV PUNCT\n",
      "Gd: SCONJ PRON DET ADJ NOUN AUX PUNCT VERB PRON ADV PUNCT\n",
      "\n",
      "Toks: D ' Gebäude ufem Firmagländ vu Energizer in La Chaux-de-Fonds ( NE ) sind zrugbaut worda .\n",
      "8s: DET PART NOUN ADP NOUN ADP PROPN ADP PROPN PROPN PUNCT PROPN PUNCT AUX VERB VERB PUNCT\n",
      "8t: DET PUNCT NOUN ADP NOUN ADP PROPN ADP X X PUNCT PROPN PUNCT AUX VERB AUX PUNCT\n",
      "Gd: DET PUNCT NOUN ADP NOUN ADP PROPN ADP X PROPN PUNCT PROPN PUNCT AUX VERB AUX PUNCT\n",
      "\n",
      "Toks: Wa nòchem Referat vom Brüelmaa letscht Wuchä und nòch säbem Òbig passiert isch , waiss nur nò dä Dani .\n",
      "8s: PRON ADP NOUN ADP PROPN ADJ NOUN CCONJ ADV PRON NOUN VERB AUX PUNCT VERB ADV X DET PROPN PUNCT\n",
      "8t: SCONJ ADP NOUN ADP PROPN ADJ NOUN CCONJ ADP DET NOUN VERB AUX PUNCT VERB ADV ADV DET PROPN PUNCT\n",
      "Gd: PRON ADP NOUN ADP PROPN ADJ NOUN CCONJ ADP DET NOUN VERB AUX PUNCT VERB ADV ADV DET PROPN PUNCT\n",
      "\n",
      "Toks: Jò , diä Wuchä hani laider nöd chönä bim Träffä vo dä AO Bärn däbi sii , weli z ' Berlin gsi bi .\n",
      "8s: INTJ PUNCT DET NOUN VERB ADV ADV AUX ADP NOUN ADP DET PROPN PROPN ADV VERB PUNCT SCONJ ADP PUNCT PROPN AUX AUX PUNCT\n",
      "8t: INTJ PUNCT DET NOUN PRON ADV ADV AUX ADP NOUN ADP DET PROPN PROPN ADV VERB PUNCT PRON ADP PUNCT PROPN AUX VERB PUNCT\n",
      "Gd: ADV PUNCT DET NOUN AUX ADV PART AUX ADP NOUN ADP DET PROPN PROPN ADV AUX PUNCT SCONJ ADP PUNCT PROPN AUX AUX PUNCT\n",
      "\n"
     ]
    }
   ],
   "source": [
    "for lang in ['fo', 'got', 'gsw']:\n",
    "    print(lang)\n",
    "    print_topk_diffs(lang)"
   ]
  },
  {
   "cell_type": "code",
   "execution_count": 6,
   "metadata": {
    "scrolled": true
   },
   "outputs": [],
   "source": [
    "## confusion matrices for NER\n",
    "ner_lbls = ['LOC', 'PER', 'ORG', 'DATE', 'O']\n",
    "ner_lbls = {lbl : idx for lbl,idx in zip(ner_lbls,range(len(ner_lbls)))}\n",
    "\n",
    "pos_lbls = ['ADJ', 'ADP', 'ADV', 'AUX', 'CCONJ', 'DET', 'INTJ', 'NOUN', 'NUM', 'PART', 'PRON', 'PROPN', 'PUNCT', 'SCONJ', 'SYM', 'VERB', 'X']\n",
    "pos_lbls = {lbl : idx for lbl,idx in zip(pos_lbls,range(len(pos_lbls)))}\n",
    "\n",
    "def cmat(langpath, lbls):\n",
    "    egs = load_jsonl('../new_results/gpt4_new/' + langpath + f\"/responses.json\")\n",
    "    cmat = [[0 for _ in range(len(lbls))] for _ in range(len(lbls))]\n",
    "\n",
    "    for eg in egs:\n",
    "        gold_lbls = [lbl.rsplit(\"_\", 1)[1].split('-')[-1] for lbl in eg[\"output\"].strip().split(\" \")]\n",
    "        for (i, lbl) in enumerate(gold_lbls):\n",
    "            gold_lbl_idx = lbls[lbl]\n",
    "            pred_lbl_idx = lbls[eg['pred_labels'][i].split('-')[-1]]\n",
    "            cmat[gold_lbl_idx][pred_lbl_idx] += 1\n",
    "      \n",
    "    return cmat"
   ]
  },
  {
   "cell_type": "code",
   "execution_count": 8,
   "metadata": {},
   "outputs": [],
   "source": [
    "def print_cmat(cmat, lbls):\n",
    "    lbl_keys = list(lbls.keys())\n",
    "    print(\".,\" + \",\".join(lbl_keys))\n",
    "    for (ridx, row) in enumerate(cmat):\n",
    "        print(lbl_keys[ridx], end=\",\")\n",
    "        for cell in row:\n",
    "            print(cell, end=\",\")\n",
    "        print()"
   ]
  },
  {
   "cell_type": "code",
   "execution_count": null,
   "metadata": {},
   "outputs": [],
   "source": [
    "def compress_cmat(cmat):\n",
    "    o_col = [0 for _ in range(len(cmat))]\n",
    "    o_row = [0 for _ in range(len(cmat))]\n",
    "    \n",
    "    n_rdx = 0\n",
    "    for i in range(len(cmat)):\n",
    "        if cmat[i][i] < 100:\n",
    "            n_rdx += 1\n",
    "            for j in range(len(cmat[i])):\n",
    "                o_col[i] += cmat[i][j]\n",
    "            for j in range(len(cmat[i])):\n",
    "                o_row[i] += cmat[j][i]\n",
    "                "
   ]
  },
  {
   "cell_type": "code",
   "execution_count": 74,
   "metadata": {
    "scrolled": false
   },
   "outputs": [
    {
     "name": "stdout",
     "output_type": "stream",
     "text": [
      "hau\n",
      ".,LOC,PER,ORG,DATE,O\n",
      "LOC,71,0,8,0,1,\n",
      "PER,0,85,0,0,2,\n",
      "ORG,3,0,24,0,24,\n",
      "DATE,1,1,0,20,69,\n",
      "O,10,7,26,1,2393,\n",
      "\n",
      "ibo\n",
      ".,LOC,PER,ORG,DATE,O\n",
      "LOC,60,3,1,0,2,\n",
      "PER,0,86,0,0,0,\n",
      "ORG,1,0,79,0,7,\n",
      "DATE,0,0,0,29,33,\n",
      "O,5,9,14,0,1542,\n",
      "\n",
      "kin\n",
      ".,LOC,PER,ORG,DATE,O\n",
      "LOC,66,0,8,0,12,\n",
      "PER,0,62,0,0,0,\n",
      "ORG,3,0,59,0,4,\n",
      "DATE,1,0,0,35,30,\n",
      "O,4,10,15,3,1906,\n",
      "\n",
      "lug\n",
      ".,LOC,PER,ORG,DATE,O\n",
      "LOC,53,1,4,0,8,\n",
      "PER,0,120,0,0,8,\n",
      "ORG,9,0,53,0,11,\n",
      "DATE,0,0,0,12,35,\n",
      "O,6,25,16,5,2033,\n",
      "\n",
      "luo\n",
      ".,LOC,PER,ORG,DATE,O\n",
      "LOC,75,0,3,0,51,\n",
      "PER,0,117,0,0,2,\n",
      "ORG,24,0,27,0,52,\n",
      "DATE,0,0,0,5,64,\n",
      "O,2,8,14,4,2184,\n",
      "\n"
     ]
    }
   ],
   "source": [
    "for lang in ['hau', 'ibo', 'kin', 'lug', 'luo']:\n",
    "    print(lang)\n",
    "    print_cmat(cmat(f'african/8t/{lang}', ner_lbls), ner_lbls)\n",
    "    print()"
   ]
  },
  {
   "cell_type": "code",
   "execution_count": 11,
   "metadata": {},
   "outputs": [
    {
     "name": "stdout",
     "output_type": "stream",
     "text": [
      "fo\n"
     ]
    },
    {
     "ename": "FileNotFoundError",
     "evalue": "[Errno 2] No such file or directory: '../new_results/gpt4_new/germanic_new/8t_desc/fo/responses.json'",
     "output_type": "error",
     "traceback": [
      "\u001b[0;31m---------------------------------------------------------------------------\u001b[0m",
      "\u001b[0;31mFileNotFoundError\u001b[0m                         Traceback (most recent call last)",
      "\u001b[0;32m<ipython-input-11-60c6bb5ca92a>\u001b[0m in \u001b[0;36m<module>\u001b[0;34m()\u001b[0m\n\u001b[1;32m      1\u001b[0m \u001b[0;32mfor\u001b[0m \u001b[0mlang\u001b[0m \u001b[0;32min\u001b[0m \u001b[0;34m[\u001b[0m\u001b[0;34m'fo'\u001b[0m\u001b[0;34m,\u001b[0m \u001b[0;34m'got'\u001b[0m\u001b[0;34m,\u001b[0m \u001b[0;34m'gsw'\u001b[0m\u001b[0;34m]\u001b[0m\u001b[0;34m:\u001b[0m\u001b[0;34m\u001b[0m\u001b[0;34m\u001b[0m\u001b[0m\n\u001b[1;32m      2\u001b[0m     \u001b[0mprint\u001b[0m\u001b[0;34m(\u001b[0m\u001b[0mlang\u001b[0m\u001b[0;34m)\u001b[0m\u001b[0;34m\u001b[0m\u001b[0;34m\u001b[0m\u001b[0m\n\u001b[0;32m----> 3\u001b[0;31m     \u001b[0mprint_cmat\u001b[0m\u001b[0;34m(\u001b[0m\u001b[0mcmat\u001b[0m\u001b[0;34m(\u001b[0m\u001b[0;34mf'germanic_new/8t_desc/{lang}'\u001b[0m\u001b[0;34m,\u001b[0m \u001b[0mpos_lbls\u001b[0m\u001b[0;34m)\u001b[0m\u001b[0;34m,\u001b[0m \u001b[0mpos_lbls\u001b[0m\u001b[0;34m)\u001b[0m\u001b[0;34m\u001b[0m\u001b[0;34m\u001b[0m\u001b[0m\n\u001b[0m\u001b[1;32m      4\u001b[0m     \u001b[0mprint\u001b[0m\u001b[0;34m(\u001b[0m\u001b[0;34m)\u001b[0m\u001b[0;34m\u001b[0m\u001b[0;34m\u001b[0m\u001b[0m\n",
      "\u001b[0;32m<ipython-input-6-1ddd5744df58>\u001b[0m in \u001b[0;36mcmat\u001b[0;34m(langpath, lbls)\u001b[0m\n\u001b[1;32m      7\u001b[0m \u001b[0;34m\u001b[0m\u001b[0m\n\u001b[1;32m      8\u001b[0m \u001b[0;32mdef\u001b[0m \u001b[0mcmat\u001b[0m\u001b[0;34m(\u001b[0m\u001b[0mlangpath\u001b[0m\u001b[0;34m,\u001b[0m \u001b[0mlbls\u001b[0m\u001b[0;34m)\u001b[0m\u001b[0;34m:\u001b[0m\u001b[0;34m\u001b[0m\u001b[0;34m\u001b[0m\u001b[0m\n\u001b[0;32m----> 9\u001b[0;31m     \u001b[0megs\u001b[0m \u001b[0;34m=\u001b[0m \u001b[0mload_jsonl\u001b[0m\u001b[0;34m(\u001b[0m\u001b[0;34m'../new_results/gpt4_new/'\u001b[0m \u001b[0;34m+\u001b[0m \u001b[0mlangpath\u001b[0m \u001b[0;34m+\u001b[0m \u001b[0;34mf\"/responses.json\"\u001b[0m\u001b[0;34m)\u001b[0m\u001b[0;34m\u001b[0m\u001b[0;34m\u001b[0m\u001b[0m\n\u001b[0m\u001b[1;32m     10\u001b[0m     \u001b[0mcmat\u001b[0m \u001b[0;34m=\u001b[0m \u001b[0;34m[\u001b[0m\u001b[0;34m[\u001b[0m\u001b[0;36m0\u001b[0m \u001b[0;32mfor\u001b[0m \u001b[0m_\u001b[0m \u001b[0;32min\u001b[0m \u001b[0mrange\u001b[0m\u001b[0;34m(\u001b[0m\u001b[0mlen\u001b[0m\u001b[0;34m(\u001b[0m\u001b[0mlbls\u001b[0m\u001b[0;34m)\u001b[0m\u001b[0;34m)\u001b[0m\u001b[0;34m]\u001b[0m \u001b[0;32mfor\u001b[0m \u001b[0m_\u001b[0m \u001b[0;32min\u001b[0m \u001b[0mrange\u001b[0m\u001b[0;34m(\u001b[0m\u001b[0mlen\u001b[0m\u001b[0;34m(\u001b[0m\u001b[0mlbls\u001b[0m\u001b[0;34m)\u001b[0m\u001b[0;34m)\u001b[0m\u001b[0;34m]\u001b[0m\u001b[0;34m\u001b[0m\u001b[0;34m\u001b[0m\u001b[0m\n\u001b[1;32m     11\u001b[0m \u001b[0;34m\u001b[0m\u001b[0m\n",
      "\u001b[0;32m<ipython-input-4-6dbecdc8d66a>\u001b[0m in \u001b[0;36mload_jsonl\u001b[0;34m(file)\u001b[0m\n\u001b[1;32m      1\u001b[0m \u001b[0;32mdef\u001b[0m \u001b[0mload_jsonl\u001b[0m\u001b[0;34m(\u001b[0m\u001b[0mfile\u001b[0m\u001b[0;34m)\u001b[0m\u001b[0;34m:\u001b[0m\u001b[0;34m\u001b[0m\u001b[0;34m\u001b[0m\u001b[0m\n\u001b[0;32m----> 2\u001b[0;31m     \u001b[0mlines\u001b[0m \u001b[0;34m=\u001b[0m \u001b[0mopen\u001b[0m\u001b[0;34m(\u001b[0m\u001b[0mfile\u001b[0m\u001b[0;34m,\u001b[0m \u001b[0;34m'r'\u001b[0m\u001b[0;34m)\u001b[0m\u001b[0;34m.\u001b[0m\u001b[0mreadlines\u001b[0m\u001b[0;34m(\u001b[0m\u001b[0;34m)\u001b[0m\u001b[0;34m\u001b[0m\u001b[0;34m\u001b[0m\u001b[0m\n\u001b[0m\u001b[1;32m      3\u001b[0m     \u001b[0mdata\u001b[0m \u001b[0;34m=\u001b[0m \u001b[0;34m[\u001b[0m\u001b[0mjson\u001b[0m\u001b[0;34m.\u001b[0m\u001b[0mloads\u001b[0m\u001b[0;34m(\u001b[0m\u001b[0mline\u001b[0m\u001b[0;34m.\u001b[0m\u001b[0mstrip\u001b[0m\u001b[0;34m(\u001b[0m\u001b[0;34m)\u001b[0m\u001b[0;34m)\u001b[0m \u001b[0;32mfor\u001b[0m \u001b[0mline\u001b[0m \u001b[0;32min\u001b[0m \u001b[0mlines\u001b[0m\u001b[0;34m]\u001b[0m\u001b[0;34m\u001b[0m\u001b[0;34m\u001b[0m\u001b[0m\n\u001b[1;32m      4\u001b[0m     \u001b[0;32mreturn\u001b[0m \u001b[0mdata\u001b[0m\u001b[0;34m\u001b[0m\u001b[0;34m\u001b[0m\u001b[0m\n",
      "\u001b[0;31mFileNotFoundError\u001b[0m: [Errno 2] No such file or directory: '../new_results/gpt4_new/germanic_new/8t_desc/fo/responses.json'"
     ]
    }
   ],
   "source": [
    "for lang in ['fo', 'got', 'gsw']:\n",
    "    print(lang)\n",
    "    print_cmat(cmat(f'germanic_new/8t_desc/{lang}', pos_lbls), pos_lbls)\n",
    "    print()"
   ]
  },
  {
   "cell_type": "code",
   "execution_count": 25,
   "metadata": {},
   "outputs": [
    {
     "data": {
      "text/plain": [
       "[[133, 1, 13, 2, 4],\n",
       " [0, 95, 0, 0, 4],\n",
       " [4, 0, 40, 0, 9],\n",
       " [0, 1, 0, 29, 104],\n",
       " [6, 14, 17, 0, 2421]]"
      ]
     },
     "execution_count": 25,
     "metadata": {},
     "output_type": "execute_result"
    }
   ],
   "source": [
    "cmat_ner('african/8s/hau')"
   ]
  },
  {
   "cell_type": "code",
   "execution_count": 40,
   "metadata": {},
   "outputs": [],
   "source": [
    "def load_egs(langpath, eg_prefix):\n",
    "    egs = load_jsonl('../new_results/gpt4_new/' + langpath + f\"/responses.json\")\n",
    "    \n",
    "    tgt_eg = None\n",
    "    for eg in egs:\n",
    "        if eg['input'].startswith(eg_prefix):\n",
    "            tgt_eg = eg\n",
    "            break\n",
    "\n",
    "    if not tgt_eg:\n",
    "        print('Could not find example')\n",
    "        return\n",
    "\n",
    "    print(f\"input: {tgt_eg['input']}\\n\")\n",
    "    print(f\"Examples: [wrong->correct] \\n\")\n",
    "    \n",
    "    exemplars = tgt_eg['examples']\n",
    "    for e in exemplars:\n",
    "        a, b = list(zip(*[a.rsplit('_') for a in e.split(' ')]))\n",
    "        a_str = ' '.join(a)\n",
    "        for i, eg in enumerate(egs):\n",
    "            if eg['input'] == a_str:\n",
    "                print(i, end=\" \")\n",
    "                print(a_str, end=\"  \\n\")\n",
    "                lbls = []\n",
    "                acc = 0\n",
    "                for (ptok, gtok) in zip(b, eg['gold_labels']):\n",
    "                    if ptok == gtok:\n",
    "                        lbls.append(ptok)\n",
    "                        acc += 1\n",
    "                    else:\n",
    "                        lbls.append(f'[{ptok}->{gtok}]')\n",
    "                print(f\"{100*acc/len(a):.2f} {' '.join(lbls)}\", end=\"  \\n\\n\")\n",
    "                break\n"
   ]
  },
  {
   "cell_type": "code",
   "execution_count": 44,
   "metadata": {},
   "outputs": [
    {
     "name": "stdout",
     "output_type": "stream",
     "text": [
      "input: I cha der ihri Telefonnummere gä , de nimmsch mou unverbindlech Kontakt uuf .\n",
      "\n",
      "Examples: [wrong->correct] \n",
      "\n",
      "59 I ha ar Marie-Claire gseit , es sig mer chli schlächt und i mög jetz nümm liire .  \n",
      "83.33 PRON AUX [PART->ADP] PROPN VERB PUNCT PRON AUX PRON ADV ADJ CCONJ PRON [VERB->AUX] ADV [ADV->PART] VERB PUNCT  \n",
      "\n",
      "4 De Spanier hed de Kontakt vermettlet , d Rumäne sölled d Holländer ombrocht ha .  \n",
      "93.33 DET NOUN AUX DET NOUN VERB PUNCT DET NOUN AUX DET [PROPN->NOUN] VERB AUX PUNCT  \n",
      "\n",
      "7 Ds Gueten isch immerhin gsi , dass i ungerdesse söfu müed bi gsi , dass i ändlech ha chönne go schlofe .  \n",
      "77.27 DET NOUN AUX ADV [VERB->AUX] PUNCT SCONJ PRON ADV [VERB->ADV] ADJ [ADP->AUX] [VERB->AUX] PUNCT SCONJ PRON ADV AUX AUX [VERB->PART] VERB PUNCT  \n",
      "\n",
      "70 Isch das e Sach gsi , bis mer se gfunge hei gha .  \n",
      "92.31 AUX PRON DET NOUN AUX PUNCT SCONJ PRON PRON VERB AUX [VERB->AUX] PUNCT  \n",
      "\n",
      "61 De Dialäkt muess zu de Gschecht und zum Inhaut vonere Werbig passe .  \n",
      "100.00 DET NOUN AUX ADP DET NOUN CCONJ ADP NOUN ADP NOUN VERB PUNCT  \n",
      "\n",
      "56 Mit der Zit hani mi mit mir säuber uf ei Schriibwiis pro Wort aafo einige .  \n",
      "81.25 ADP DET NOUN [VERB->AUX] PRON ADP PRON [ADJ->ADV] ADP DET NOUN ADP NOUN VERB [DET->VERB] PUNCT  \n",
      "\n",
      "30 Mit all denä Wörter hani natürli nüt chönä aafangä .  \n",
      "70.00 ADP DET DET NOUN [PRON->AUX] ADV [ADV->PRON] [VERB->AUX] VERB PUNCT  \n",
      "\n",
      "15 Aso bini rächt uufgschmissä gsi und dem entschprächend fascht verzwiiflät .  \n",
      "90.91 ADV AUX ADV [VERB->ADJ] AUX CCONJ PRON ADJ ADV VERB PUNCT  \n",
      "\n"
     ]
    }
   ],
   "source": [
    "load_egs('germanic_new/8t/gsw', \"I cha der ihri\")"
   ]
  },
  {
   "cell_type": "code",
   "execution_count": null,
   "metadata": {},
   "outputs": [],
   "source": []
  }
 ],
 "metadata": {
  "kernelspec": {
   "display_name": "Python 3",
   "language": "python",
   "name": "python3"
  },
  "language_info": {
   "codemirror_mode": {
    "name": "ipython",
    "version": 3
   },
   "file_extension": ".py",
   "mimetype": "text/x-python",
   "name": "python",
   "nbconvert_exporter": "python",
   "pygments_lexer": "ipython3",
   "version": "3.6.9"
  }
 },
 "nbformat": 4,
 "nbformat_minor": 2
}
