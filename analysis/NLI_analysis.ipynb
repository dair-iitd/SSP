{
 "cells": [
  {
   "cell_type": "code",
   "execution_count": 1,
   "metadata": {},
   "outputs": [
    {
     "name": "stdout",
     "output_type": "stream",
     "text": [
      "['/home/vipul/llm/iterate', '/home/vipul/miniconda3/envs/llm/lib/python310.zip', '/home/vipul/miniconda3/envs/llm/lib/python3.10', '/home/vipul/miniconda3/envs/llm/lib/python3.10/lib-dynload', '', '/home/vipul/miniconda3/envs/llm/lib/python3.10/site-packages']\n"
     ]
    }
   ],
   "source": [
    "import sys\n",
    "sys.path.insert(0, '/home/vipul/llm/iterate')\n",
    "print(sys.path)"
   ]
  },
  {
   "cell_type": "code",
   "execution_count": 2,
   "metadata": {},
   "outputs": [
    {
     "name": "stderr",
     "output_type": "stream",
     "text": [
      "/home/vipul/miniconda3/envs/llm/lib/python3.10/site-packages/tqdm/auto.py:21: TqdmWarning: IProgress not found. Please update jupyter and ipywidgets. See https://ipywidgets.readthedocs.io/en/stable/user_install.html\n",
      "  from .autonotebook import tqdm as notebook_tqdm\n"
     ]
    }
   ],
   "source": [
    "from dataset import JSONLDataset, TabularDataset, PickleDataset\n",
    "import models.openai as openai\n",
    "from util import parse_example, parse_tsv_example, parse_qaner_example, score_sets\n",
    "import numpy as np\n",
    "import time\n",
    "import re\n",
    "\n",
    "from dotenv import load_dotenv\n",
    "\n",
    "import argparse\n",
    "import random\n",
    "from tqdm.auto import tqdm\n",
    "import os, pdb\n",
    "import json\n",
    "import shutil\n",
    "import logging\n",
    "from datetime import datetime\n",
    "import signal"
   ]
  },
  {
   "cell_type": "code",
   "execution_count": 3,
   "metadata": {},
   "outputs": [],
   "source": [
    "def run_prompt(prompt, model):\n",
    "    completion = model.complete(prompt)\n",
    "    if completion is None or completion == '':\n",
    "        return \"Could not complete prompt\"\n",
    "    return completion\n",
    "\n",
    "def construct_prompt(srcfile, promptfile, egs):\n",
    "    ds = JSONLDataset(srcfile)\n",
    "    egs = []\n",
    "    for idx in eg_idxs:\n",
    "        egs.append(ds[idx])\n",
    "    \n",
    "    for eg in egs:\n",
    "        for (ptok, gtok) in zip(eg['pred_labels'], eg['gold_labels']):\n",
    "            if ptok == gtok:\n",
    "                print(ptok, end=' ')\n",
    "            else:\n",
    "                print(f'[{ptok}]', end=' ')\n",
    "        print()\n",
    "\n",
    "def get_prompt_eg_acc(srcfile, eg_idxs):\n",
    "    ds = JSONLDataset(srcfile)\n",
    "    egs = []\n",
    "    for idx in eg_idxs:\n",
    "        egs.append(ds[idx])\n",
    "    \n",
    "    for eg in egs:\n",
    "        for (ptok, gtok) in zip(eg['pred_labels'], eg['gold_labels']):\n",
    "            if ptok == gtok:\n",
    "                print(ptok, end=' ')\n",
    "            else:\n",
    "                print(f'[{ptok}->{gtok}]', end=' ')\n",
    "        print()\n",
    "    \n",
    "def create_model():\n",
    "    load_dotenv('../../.env')\n",
    "    openai.setup_api_key(os.environ.get('OPENAI_API_KEY'))\n",
    "\n",
    "    model_args = openai.ChatGPT.DEFAULT_ARGS\n",
    "    model_args['engine'] = 'gpt-4-turbo'\n",
    "    model_args['request_timeout'] = 200\n",
    "    model_args['temperature'] = 0\n",
    "    return openai.ChatGPT(model_args)\n",
    "\n",
    "def parse_response(response):\n",
    "    lines = response.strip().split('\\n')\n",
    "    pred = [a.split('\\t') for a in lines if '\\t' in a]\n",
    "    return list(zip(*pred))"
   ]
  },
  {
   "cell_type": "code",
   "execution_count": 13,
   "metadata": {},
   "outputs": [],
   "source": [
    "eg_1_prompt = \"\"\"You are an NLP assistant whose purpose is to solve Natural Language Inference (NLI) problems. NLI is the task of determining the inference relation between two (short, ordered) texts: entailment, contradiction, or neutral. Answer as concisely as possible in the same format as the examples below:\n",
    "\n",
    "Premise: Ah, huk chaypi allinqa apakurqa allin qawasqayqa paniypa ñawpaq yuyariyninmi, chaypas hina hipa pampapim karqa. , Hypothesis: Yuyaruniqa hipa pampapi huk ima apakusqantam. , Answer: entailment\n",
    "\n",
    "Premise: Yaykuykuptiykuqa punkukunaqa wichqasqam kachkarqa. , Hypothesis: Punku wichqasqa kachkaptinpas yaykurqanikum. , Answer: entailment\n",
    "\n",
    "Premise: Yanapawaqniy atiq sispasmi hatun llaqtapa waklawninpiraq tiyan. , Hypothesis: Yanapawaqniy warmi warman 5 millas nisqan karupiraq tiyan. , Answer: entailment\n",
    "\n",
    "Premise: Manam mayman risqanta yacharqanikuchu. , Hypothesis: Mayman risqantam yacharqaniku. , Answer: entailment\n",
    "\n",
    "Premise: Chayna kaptinqa hamutachkanim huktapiwan Ramonawan rimariyta. , Hypothesis: Ramonawanmi huktapiwan rimarqani. , Answer: entailment\n",
    "\n",
    "Premise: Ripukusqañam hinaspam amaña llakikunaypaq niwarqa. , Hypothesis: Ama llakikunaytam niwarqa. , Answer: entailment\n",
    "\n",
    "Premise: Ichapasyá huk kaq mana yachasqaymanta hamun ichaqa , Hypothesis: Apurawtam hamun, ichaqa maymanta hamusqanta yachanim. , Answer: entailment\n",
    "\n",
    "Premise: Locust Hill oh awriki, ari, kusa , Hypothesis: Locust Hill nisqaqa allinmi. , Answer: contradiction\n",
    "\n",
    "Premise: Oh, payllam isqun iskay iskayraq regulador nisqapi inyecciónta qinaq karqa. , Hypothesis: Martes punchawtam inyector nisqata hinarqani. , Answer: \"\"\""
   ]
  },
  {
   "cell_type": "markdown",
   "metadata": {},
   "source": [
    "input: I cha der ihri Telefonnummere gä , de nimmsch mou unverbindlech Kontakt uuf .\n",
    "\n",
    "Examples:\n",
    "\n",
    "59  \n",
    "I ha ar Marie-Claire gseit , es sig mer chli schlächt und i mög jetz nümm liire .  \n",
    "PRON AUX [DET->ADP] PROPN VERB PUNCT PRON AUX PRON ADV ADJ CCONJ PRON [VERB->AUX] ADV [ADV->PART] VERB PUNCT   \n",
    "\n",
    "4  \n",
    "De Spanier hed de Kontakt vermettlet , d Rumäne sölled d Holländer ombrocht ha .  \n",
    "DET NOUN AUX DET NOUN VERB PUNCT DET NOUN [VERB->AUX] DET NOUN VERB AUX PUNCT   \n",
    "\n",
    "7  \n",
    "Ds Gueten isch immerhin gsi , dass i ungerdesse söfu müed bi gsi , dass i ändlech ha chönne go schlofe .  \n",
    "DET NOUN AUX ADV AUX PUNCT SCONJ PRON ADV ADV ADJ [ADP->AUX] AUX PUNCT SCONJ PRON ADV AUX AUX PART VERB PUNCT   \n",
    "\n",
    "70  \n",
    "Isch das e Sach gsi , bis mer se gfunge hei gha .  \n",
    "AUX [DET->PRON] DET NOUN [VERB->AUX] PUNCT SCONJ PRON PRON VERB AUX [VERB->AUX] PUNCT   \n",
    "\n",
    "61  \n",
    "De Dialäkt muess zu de Gschecht und zum Inhaut vonere Werbig passe .  \n",
    "DET NOUN AUX ADP DET NOUN CCONJ ADP NOUN ADP NOUN VERB PUNCT   \n",
    "\n",
    "56  \n",
    "Mit der Zit hani mi mit mir säuber uf ei Schriibwiis pro Wort aafo einige .  \n",
    "ADP DET NOUN [PRON->AUX] PRON ADP PRON ADV ADP DET NOUN ADP NOUN VERB VERB PUNCT   \n",
    "\n",
    "30  \n",
    "Mit all denä Wörter hani natürli nüt chönä aafangä .  \n",
    "ADP DET [PRON->DET] NOUN [VERB->AUX] ADV PRON [VERB->AUX] VERB PUNCT   \n",
    "\n",
    "15  \n",
    "Aso bini rächt uufgschmissä gsi und dem entschprächend fascht verzwiiflät .  \n",
    "ADV AUX ADV [VERB->ADJ] AUX CCONJ PRON ADJ ADV VERB PUNCT   \n",
    "\n"
   ]
  },
  {
   "cell_type": "code",
   "execution_count": 17,
   "metadata": {},
   "outputs": [],
   "source": [
    "eg_1_idxs = [66, 58, 93, 45, 15, 68, 26, 70]\n",
    "eg_2_prompt = \"\"\"You are an NLP assistant whose purpose is to solve Natural Language Inference (NLI) problems. NLI is the task of determining the inference relation between two (short, ordered) texts: entailment, contradiction, or neutral. Answer as concisely as possible in the same format as the examples below:\n",
    "\n",
    "Premise: Ah, huk chaypi allinqa apakurqa allin qawasqayqa paniypa ñawpaq yuyariyninmi, chaypas hina hipa pampapim karqa. , Hypothesis: Yuyaruniqa hipa pampapi huk ima apakusqantam. , Answer: entailment\n",
    "\n",
    "Premise: Yaykuykuptiykuqa punkukunaqa wichqasqam kachkarqa. , Hypothesis: Punku wichqasqa kachkaptinpas yaykurqanikum. , Answer: entailment\n",
    "\n",
    "Premise: Manam mayman risqanta yacharqanikuchu. , Hypothesis: Mayman risqantam yacharqaniku. , Answer: entailment\n",
    "\n",
    "Premise: Chayna kaptinqa hamutachkanim huktapiwan Ramonawan rimariyta. , Hypothesis: Ramonawanmi huktapiwan rimarqani. , Answer: entailment\n",
    "\n",
    "Premise: Manam pachay karqachu ima kaqpas ruranaypaq. , Hypothesis: Mana pacha llapan qinanaypaq haypawarqachu , Answer: entailment\n",
    "\n",
    "Premise: Ripukusqañam hinaspam amaña llakikunaypaq niwarqa. , Hypothesis: Ama llakikunaytam niwarqa. , Answer: entailment\n",
    "\n",
    "Premise: Ichapasyá huk kaq mana yachasqaymanta hamun ichaqa , Hypothesis: Apurawtam hamun, ichaqa maymanta hamusqanta yachanim. , Answer: entailment\n",
    "\n",
    "Premise: Locust Hill oh awriki, ari, kusa , Hypothesis: Locust Hill nisqaqa allinmi. , Answer: contradiction\n",
    "\n",
    "Premise: Oh, payllam isqun iskay iskayraq regulador nisqapi inyecciónta qinaq karqa. , Hypothesis: Martes punchawtam inyector nisqata hinarqani. , Answer: \"\"\""
   ]
  },
  {
   "cell_type": "code",
   "execution_count": 18,
   "metadata": {},
   "outputs": [],
   "source": [
    "model = create_model()"
   ]
  },
  {
   "cell_type": "code",
   "execution_count": 19,
   "metadata": {},
   "outputs": [],
   "source": [
    "def print_results(prompt, model):\n",
    "    print(run_prompt(prompt, model))"
   ]
  },
  {
   "cell_type": "code",
   "execution_count": 20,
   "metadata": {},
   "outputs": [
    {
     "name": "stdout",
     "output_type": "stream",
     "text": [
      "neutral\n"
     ]
    }
   ],
   "source": [
    "print_results(eg_2_prompt, model)"
   ]
  },
  {
   "cell_type": "code",
   "execution_count": 12,
   "metadata": {},
   "outputs": [
    {
     "data": {
      "text/plain": [
       "'You are an NLP assistant whose purpose is to solve Natural Language Inference (NLI) problems. NLI is the task of determining the inference relation between two (short, ordered) texts: entailment, contradiction, or neutral. Answer as concisely as possible in the same format as the examples below:\\n\\nPremise: Ah, huk chaypi allinqa apakurqa allin qawasqayqa paniypa ñawpaq yuyariyninmi, chaypas hina hipa pampapim karqa. , Hypothesis: Yuyaruniqa hipa pampapi huk ima apakusqantam. , Answer: entailment\\n\\nPremise: Yaykuykuptiykuqa punkukunaqa wichqasqam kachkarqa. , Hypothesis: Punku wichqasqa kachkaptinpas yaykurqanikum. , Answer: entailment\\n\\nPremise: Yanapawaqniy atiq sispasmi hatun llaqtapa waklawninpiraq tiyan. , Hypothesis: Yanapawaqniy warmi warman 5 millas nisqan karupiraq tiyan. , Answer: contradiction\\n\\nPremise: Manam mayman risqanta yacharqanikuchu. , Hypothesis: Mayman risqantam yacharqaniku. , Answer: entailment\\n\\nPremise: Chayna kaptinqa hamutachkanim huktapiwan Ramonawan rimariyta. , Hypothesis: Ramonawanmi huktapiwan rimarqani. , Answer: entailment\\n\\nPremise: Ripukusqañam hinaspam amaña llakikunaypaq niwarqa. , Hypothesis: Ama llakikunaytam niwarqa. , Answer: entailment\\n\\nPremise: Ichapasyá huk kaq mana yachasqaymanta hamun ichaqa , Hypothesis: Apurawtam hamun, ichaqa maymanta hamusqanta yachanim. , Answer: entailment\\n\\nPremise: Locust Hill oh awriki, ari, kusa , Hypothesis: Locust Hill nisqaqa allinmi. , Answer: contradiction\\n\\nPremise: Oh, payllam isqun iskay iskayraq regulador nisqapi inyecciónta qinaq karqa. , Hypothesis: Martes punchawtam inyector nisqata hinarqani. , Answer: '"
      ]
     },
     "execution_count": 12,
     "metadata": {},
     "output_type": "execute_result"
    }
   ],
   "source": [
    "eg_1_prompt"
   ]
  },
  {
   "cell_type": "code",
   "execution_count": null,
   "metadata": {},
   "outputs": [],
   "source": []
  }
 ],
 "metadata": {
  "kernelspec": {
   "display_name": "llm",
   "language": "python",
   "name": "llm"
  },
  "language_info": {
   "codemirror_mode": {
    "name": "ipython",
    "version": 3
   },
   "file_extension": ".py",
   "mimetype": "text/x-python",
   "name": "python",
   "nbconvert_exporter": "python",
   "pygments_lexer": "ipython3",
   "version": "3.10.0"
  }
 },
 "nbformat": 4,
 "nbformat_minor": 2
}
